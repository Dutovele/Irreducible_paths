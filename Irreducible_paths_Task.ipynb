{
 "cells": [
  {
   "cell_type": "markdown",
   "metadata": {
    "collapsed": true,
    "pycharm": {
     "name": "#%% md\n"
    }
   },
   "source": [
    "# Irreducible paths"
   ]
  },
  {
   "cell_type": "markdown",
   "source": [
    "A path of length k ≥ 0 in an undirected graph is a sequence of k pairwise distinct edges such that each two neighbour edges in the sequence share exactly one endnode and no three edges in the sequence share a common endnode. Also, the first and the last edge in the path share a common node only in case when the length of the path is at most 2.\n",
    "We say that a node is in path P if it is an endnode of at least one edge in P. We say that a path P in a graph G is an **irreducible path** if no edge which is in G and not in P connects two nodes which are in P."
   ],
   "metadata": {
    "collapsed": false,
    "pycharm": {
     "name": "#%% md\n"
    }
   }
  },
  {
   "cell_type": "markdown",
   "source": [
    "<img src=\"graphs1.png\">"
   ],
   "metadata": {
    "collapsed": false,
    "pycharm": {
     "name": "#%% md\n"
    }
   }
  },
  {
   "cell_type": "markdown",
   "source": [
    "### The Task\n",
    "Find the number of irreducible paths of length 3 in a given simple undirected graph."
   ],
   "metadata": {
    "collapsed": false,
    "pycharm": {
     "name": "#%% md\n"
    }
   }
  },
  {
   "cell_type": "markdown",
   "source": [
    "### Input specifications\n",
    "The first input line contains two integers N and M separated by space. The values indicate (in this order) the number of nodes in the graph and the number of edges in the graph. The nodes are labeled by integers 0, 1, ..., N−1. Next, there are M text lines, each describe one edge. Each line contains the labels of two endnodes of an edge, separated by space. The order of node labels on a line and the order of edges in the input is arbitrary.\n",
    "It holds, 2 ≤ N ≤ 1000, 1 ≤ M ≤ 3000."
   ],
   "metadata": {
    "collapsed": false,
    "pycharm": {
     "name": "#%% md\n"
    }
   }
  },
  {
   "cell_type": "markdown",
   "source": [
    "### Output specifications\n",
    "The output contains one text line with one integer representing the number of irreducible paths of length 3 in the input graph."
   ],
   "metadata": {
    "collapsed": false,
    "pycharm": {
     "name": "#%% md\n"
    }
   }
  },
  {
   "cell_type": "markdown",
   "source": [
    "<img src=\"input-output1.png\">"
   ],
   "metadata": {
    "collapsed": false,
    "pycharm": {
     "name": "#%% md\n"
    }
   }
  }
 ],
 "metadata": {
  "kernelspec": {
   "display_name": "Python 3",
   "language": "python",
   "name": "python3"
  },
  "language_info": {
   "codemirror_mode": {
    "name": "ipython",
    "version": 2
   },
   "file_extension": ".py",
   "mimetype": "text/x-python",
   "name": "python",
   "nbconvert_exporter": "python",
   "pygments_lexer": "ipython2",
   "version": "2.7.6"
  }
 },
 "nbformat": 4,
 "nbformat_minor": 0
}